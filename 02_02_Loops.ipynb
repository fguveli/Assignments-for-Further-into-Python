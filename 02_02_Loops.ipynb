{
 "cells": [
  {
   "cell_type": "markdown",
   "metadata": {},
   "source": [
    "# Assignments for \"Loops\""
   ]
  },
  {
   "cell_type": "markdown",
   "metadata": {},
   "source": [
    "1. Please form a multiplication table from user input.\n",
    "\n",
    "    Example :\n",
    "\n",
    "        Enter a number : 6\n",
    "        6 x 1 = 6                                                               \n",
    "        6 x 2 = 12                                                              \n",
    "        6 x 3 = 18                                                              \n",
    "        6 x 4 = 24                                                              \n",
    "        6 x 5 = 30                                                              \n",
    "        6 x 6 = 36                                                              \n",
    "        6 x 7 = 42                                                              \n",
    "        6 x 8 = 48                                                              \n",
    "        6 x 9 = 54                                                              \n",
    "        6 x 10 = 60 "
   ]
  },
  {
   "cell_type": "code",
   "execution_count": 7,
   "metadata": {},
   "outputs": [
    {
     "name": "stdin",
     "output_type": "stream",
     "text": [
      "Please enter your number: 6\n"
     ]
    },
    {
     "name": "stdout",
     "output_type": "stream",
     "text": [
      "6 x 1  =  6\n",
      "6 x 2  =  12\n",
      "6 x 3  =  18\n",
      "6 x 4  =  24\n",
      "6 x 5  =  30\n",
      "6 x 6  =  36\n",
      "6 x 7  =  42\n",
      "6 x 8  =  48\n",
      "6 x 9  =  54\n",
      "6 x 10  =  60\n"
     ]
    }
   ],
   "source": [
    "userNum = int(input(\"Please enter your number:\"))\n",
    "for i in range(1,11):\n",
    "    print(str(userNum) + \" x\", i, \" = \", userNum * i)"
   ]
  },
  {
   "cell_type": "markdown",
   "metadata": {},
   "source": [
    "2. Simply by using list compherension, form a list by taking square of odds numbers and by calculating cube of even numbers from 1 to 20. <br><br>\n"
   ]
  },
  {
   "cell_type": "code",
   "execution_count": 33,
   "metadata": {},
   "outputs": [
    {
     "name": "stdout",
     "output_type": "stream",
     "text": [
      "[1, 8, 9, 64, 25, 216, 49, 512, 81, 1000, 121, 1728, 169, 2744, 225, 4096, 289, 5832, 361]\n"
     ]
    }
   ],
   "source": [
    "newList = []\n",
    "for i in range(1,20):\n",
    "    if i % 2 == 0:\n",
    "        newList.append(i ** 3)\n",
    "    else:\n",
    "        newList.append(i ** 2)\n",
    "print(newList)"
   ]
  },
  {
   "cell_type": "markdown",
   "metadata": {},
   "source": [
    "3. Please type a code that inverts the initial user input.\n",
    "\n",
    "    Example : \"automobile\" --> \"elibomotua\"<br><br>"
   ]
  },
  {
   "cell_type": "code",
   "execution_count": 8,
   "metadata": {},
   "outputs": [
    {
     "name": "stdin",
     "output_type": "stream",
     "text": [
      "Enter your word: automobile\n"
     ]
    },
    {
     "name": "stdout",
     "output_type": "stream",
     "text": [
      "elibomotua\n"
     ]
    }
   ],
   "source": [
    "userStr = input(\"Enter your word:\")\n",
    "print(userStr[::-1])"
   ]
  },
  {
   "cell_type": "markdown",
   "metadata": {},
   "source": [
    "4. Using `range(1, 201)`, make two lists. One is containing all even numbers and the other containing all odd numbers.<br><br>"
   ]
  },
  {
   "cell_type": "code",
   "execution_count": 12,
   "metadata": {},
   "outputs": [],
   "source": [
    "evenlist = []\n",
    "oddlist = []\n",
    "for i in range(1,201):\n",
    "    if i % 2 == 0:\n",
    "        evenlist.append(i)\n",
    "    else:\n",
    "        oddlist.append(i)"
   ]
  },
  {
   "cell_type": "markdown",
   "metadata": {},
   "source": [
    "5. Define a function called `count` that has two arguments called `sequence` and `item`. Return the number of times the item occurs in the list.<br>\n",
    "\n",
    "    Example:\n",
    "    ```python\n",
    "    count([1,2,1,1], 1)\n",
    "    ```\n",
    "    It should return 3. Because `1` appears 3 times in the list.<br><br>"
   ]
  },
  {
   "cell_type": "code",
   "execution_count": 13,
   "metadata": {},
   "outputs": [
    {
     "name": "stdout",
     "output_type": "stream",
     "text": [
      "3\n"
     ]
    }
   ],
   "source": [
    "def count(sequence, item):\n",
    "    sum = 0\n",
    "    for n in sequence:\n",
    "        if n == item:\n",
    "            sum += 1\n",
    "    return sum\n",
    "print(count([1,2,1,1], 1))"
   ]
  },
  {
   "cell_type": "markdown",
   "metadata": {},
   "source": [
    "6. Write a function called `digit_sum` that takes a positive integer n as input and returns the sum of all that number's digits as a single-digit number.\n",
    "\n",
    "    Example:\n",
    "        27684 --> 2 + 7 + 6 + 8 + 4 = 27 --> 2 + 7 = 9<br>"
   ]
  },
  {
   "cell_type": "code",
   "execution_count": 17,
   "metadata": {},
   "outputs": [
    {
     "name": "stdin",
     "output_type": "stream",
     "text": [
      "Please enter your num 27684\n"
     ]
    },
    {
     "name": "stdout",
     "output_type": "stream",
     "text": [
      "9\n"
     ]
    }
   ],
   "source": [
    "userNum = input(\"Please enter your num\")\n",
    "sum = 0\n",
    "for i in userNum:\n",
    "    sum += int(i)\n",
    "if sum > 9:\n",
    "    newSum = str(sum)\n",
    "    sum = 0\n",
    "    for x in newSum:\n",
    "        sum += int(x)\n",
    "print(sum)"
   ]
  },
  {
   "cell_type": "markdown",
   "metadata": {},
   "source": [
    "7. Write a program to find greatest common divisor (GCD) or highest common factor (HCF) of given two numbers.<br><br>"
   ]
  },
  {
   "cell_type": "code",
   "execution_count": 24,
   "metadata": {},
   "outputs": [
    {
     "name": "stdin",
     "output_type": "stream",
     "text": [
      "Please give first number 112\n",
      "Please give second number 596\n"
     ]
    },
    {
     "name": "stdout",
     "output_type": "stream",
     "text": [
      "4\n"
     ]
    }
   ],
   "source": [
    "num1 = int(input(\"Please give first number\"))\n",
    "num2 = int(input(\"Please give second number\"))\n",
    "\n",
    "if num1 > num2:\n",
    "    limit = num2\n",
    "else:\n",
    "    limit = num1\n",
    "\n",
    "gcd = 1\n",
    "\n",
    "for i in range(1, limit + 1):\n",
    "    if(num1 % i == 0) and (num2 % i == 0):\n",
    "        gcd = i\n",
    "print(gcd)"
   ]
  },
  {
   "cell_type": "markdown",
   "metadata": {},
   "source": [
    "8. Write a Python program that iterates integers from 1 to 50. For multiples of three print `fizz` instead of the number and for the multiples of five print `buzz`. For numbers which are multiples of both three and five print `fizzbuzz`.\n"
   ]
  },
  {
   "cell_type": "code",
   "execution_count": 25,
   "metadata": {},
   "outputs": [
    {
     "name": "stdout",
     "output_type": "stream",
     "text": [
      "1\n",
      "2\n",
      "fizz\n",
      "4\n",
      "buzz\n",
      "fizz\n",
      "7\n",
      "8\n",
      "fizz\n",
      "buzz\n",
      "11\n",
      "fizz\n",
      "13\n",
      "14\n",
      "fizzbuzz\n",
      "16\n",
      "17\n",
      "fizz\n",
      "19\n",
      "buzz\n",
      "fizz\n",
      "22\n",
      "23\n",
      "fizz\n",
      "buzz\n",
      "26\n",
      "fizz\n",
      "28\n",
      "29\n",
      "fizzbuzz\n",
      "31\n",
      "32\n",
      "fizz\n",
      "34\n",
      "buzz\n",
      "fizz\n",
      "37\n",
      "38\n",
      "fizz\n",
      "buzz\n",
      "41\n",
      "fizz\n",
      "43\n",
      "44\n",
      "fizzbuzz\n",
      "46\n",
      "47\n",
      "fizz\n",
      "49\n"
     ]
    }
   ],
   "source": [
    "for i in range(1,50):\n",
    "    if i % 3 == 0 and i % 5 == 0:\n",
    "        print(\"fizzbuzz\")\n",
    "    elif i % 3 == 0:\n",
    "        print(\"fizz\")\n",
    "    elif i % 5 == 0:\n",
    "        print(\"buzz\")\n",
    "    else:\n",
    "        print(i)"
   ]
  },
  {
   "cell_type": "markdown",
   "metadata": {},
   "source": [
    "9. Please form a list out of Fibonacci numbers from 1 to 50. The first two Fibonacci numbers are 1. The next numbers are the sum of the previous two."
   ]
  },
  {
   "cell_type": "code",
   "execution_count": 32,
   "metadata": {},
   "outputs": [
    {
     "name": "stdout",
     "output_type": "stream",
     "text": [
      "[1, 1, 2, 3, 5, 8, 13, 21, 34]\n"
     ]
    }
   ],
   "source": [
    "firstone = 1\n",
    "secondone = 1\n",
    "\n",
    "fibList = [firstone, secondone]\n",
    "newNum = firstone + secondone\n",
    "\n",
    "\n",
    "while newNum <= 50:\n",
    "    fibList.append(newNum)\n",
    "    firstone = secondone\n",
    "    secondone = newNum\n",
    "    newNum = firstone + secondone\n",
    "print(fibList)"
   ]
  }
 ],
 "metadata": {
  "kernelspec": {
   "display_name": "Python 3",
   "language": "python",
   "name": "python3"
  },
  "language_info": {
   "codemirror_mode": {
    "name": "ipython",
    "version": 3
   },
   "file_extension": ".py",
   "mimetype": "text/x-python",
   "name": "python",
   "nbconvert_exporter": "python",
   "pygments_lexer": "ipython3",
   "version": "3.8.2"
  }
 },
 "nbformat": 4,
 "nbformat_minor": 4
}
