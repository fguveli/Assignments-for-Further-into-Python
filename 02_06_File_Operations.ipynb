{
 "cells": [
  {
   "cell_type": "markdown",
   "metadata": {},
   "source": [
    "# Assignments for \"File Operations\""
   ]
  },
  {
   "cell_type": "markdown",
   "metadata": {},
   "source": [
    "1. Please write a poem you wanted in a `.txt` file and save it to the disk."
   ]
  },
  {
   "cell_type": "code",
   "execution_count": 18,
   "metadata": {},
   "outputs": [],
   "source": [
    "with open(\"myPoem.txt\",\"w\", encoding='utf8') as f:\n",
    "    f.write(\"Çiçek sulandığı kadar güzeldir\\nKuşlar ötebildiği kadar sevimli\\nBebek ağladığı kadar bebektir\\nVe herşeyi öğrendiğin kadar bilirsin bunu da öğren,\\nSevdiğin kadar sevilirsin...\\nCan Yücel\\n\")"
   ]
  },
  {
   "cell_type": "markdown",
   "metadata": {},
   "source": [
    "2. Append a new poem into the file you have created."
   ]
  },
  {
   "cell_type": "code",
   "execution_count": 19,
   "metadata": {},
   "outputs": [],
   "source": [
    "with open(\"myPoem.txt\",\"a\",encoding='utf8') as f:\n",
    "    f.write(\"Gül-i ruhsârına karşu gözümden kanlı akar su,\\nHabîbim fasl-ı güldür bu akar sular bulanmaz mı?\")"
   ]
  },
  {
   "cell_type": "markdown",
   "metadata": {},
   "source": [
    "3. Read and print all poems."
   ]
  },
  {
   "cell_type": "code",
   "execution_count": 22,
   "metadata": {},
   "outputs": [
    {
     "name": "stdout",
     "output_type": "stream",
     "text": [
      "Çiçek sulandığı kadar güzeldir\n",
      "Kuşlar ötebildiği kadar sevimli\n",
      "Bebek ağladığı kadar bebektir\n",
      "Ve herşeyi öğrendiğin kadar bilirsin bunu da öğren,\n",
      "Sevdiğin kadar sevilirsin...\n",
      "Can Yücel\n",
      "Gül-i ruhsârına karşu gözümden kanlı akar su,\n",
      "Habîbim fasl-ı güldür bu akar sular bulanmaz mı?"
     ]
    }
   ],
   "source": [
    "with open(\"myPoem.txt\", \"r\", encoding='utf8') as f:\n",
    "    myList = f.readlines()\n",
    "    for i in myList:\n",
    "        print(i, end=\"\")"
   ]
  }
 ],
 "metadata": {
  "kernelspec": {
   "display_name": "Python 3",
   "language": "python",
   "name": "python3"
  },
  "language_info": {
   "codemirror_mode": {
    "name": "ipython",
    "version": 3
   },
   "file_extension": ".py",
   "mimetype": "text/x-python",
   "name": "python",
   "nbconvert_exporter": "python",
   "pygments_lexer": "ipython3",
   "version": "3.8.2"
  }
 },
 "nbformat": 4,
 "nbformat_minor": 4
}
