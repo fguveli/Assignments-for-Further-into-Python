{
 "cells": [
  {
   "cell_type": "markdown",
   "metadata": {},
   "source": [
    "# Assignments for \"Conditional Statements\""
   ]
  },
  {
   "cell_type": "markdown",
   "metadata": {},
   "source": [
    "1. Please get Celcius or Fahrenheit degrees from users and type a code to convert these heat units to each other.  \n",
    "    For conversion, please use this formula: C = (5/9) * (F - 32)\n",
    "    \n",
    "        Example : \"40C\" --> \"104F\"\n",
    "                  \"52F\" --> \"11.1C\""
   ]
  },
  {
   "cell_type": "code",
   "execution_count": 8,
   "metadata": {},
   "outputs": [
    {
     "name": "stdin",
     "output_type": "stream",
     "text": [
      "For Fahrenheit enter F, For Celcius enter C. f\n",
      "Please give temperature Celcius 40\n"
     ]
    },
    {
     "name": "stdout",
     "output_type": "stream",
     "text": [
      "104.0F\n"
     ]
    }
   ],
   "source": [
    "x = True\n",
    "while x:\n",
    "    y = input(\"For Fahrenheit enter F, For Celcius enter C.\")\n",
    "    if (y == \"C\" or y == \"c\") or  (y == \"F\" or y == \"f\"):\n",
    "        x = False\n",
    "if y == \"F\":\n",
    "    temperature = input(\"Please give temperature Fahrenheit\")\n",
    "    celcius = (5/9) * (int(temperature) - 32)\n",
    "    print(str(celcius) + \"C\")\n",
    "else:\n",
    "    temperature = input(\"Please give temperature Celcius\")\n",
    "    fahrenheit = (9/5 * int(temperature)) + 32\n",
    "    print(str(fahrenheit) + \"F\")"
   ]
  },
  {
   "cell_type": "markdown",
   "metadata": {},
   "source": [
    "2. A company decided to give a bonus of 5% to the employees if his/her year of service is more than 5 years.\n",
    "Ask the user for their salary and year of service and print the net bonus amount."
   ]
  },
  {
   "cell_type": "code",
   "execution_count": 11,
   "metadata": {},
   "outputs": [
    {
     "name": "stdin",
     "output_type": "stream",
     "text": [
      "Please enter your year of service:  10\n",
      "Please enter your salary:  1000\n"
     ]
    },
    {
     "name": "stdout",
     "output_type": "stream",
     "text": [
      "50.0\n"
     ]
    }
   ],
   "source": [
    "serviceYear = int(input(\"Please enter your year of service: \"))\n",
    "if serviceYear > 5:\n",
    "    salary = float(input(\"Please enter your salary: \"))\n",
    "    bonus = salary * 0.05\n",
    "    print(bonus)\n",
    "else:\n",
    "    print(\"Year of service is not enough for a bonus\")"
   ]
  },
  {
   "cell_type": "markdown",
   "metadata": {},
   "source": [
    "3. Take input of ages of 3 people by the user and determine the oldest and youngest among them."
   ]
  },
  {
   "cell_type": "code",
   "execution_count": 14,
   "metadata": {},
   "outputs": [
    {
     "name": "stdin",
     "output_type": "stream",
     "text": [
      "Please enter age:  22\n",
      "Please enter age:  33\n",
      "Please enter age:  44\n"
     ]
    },
    {
     "name": "stdout",
     "output_type": "stream",
     "text": [
      "Youngest:22 Oldest: 44\n"
     ]
    }
   ],
   "source": [
    "ages = []\n",
    "for i in range(3):\n",
    "    ages.append(input(\"Please enter age: \"))\n",
    "ages.sort()\n",
    "print(\"Youngest:\" + str(ages[0]), \"Oldest: \" + str(ages[2]))"
   ]
  },
  {
   "cell_type": "markdown",
   "metadata": {},
   "source": [
    "4. A student will not be allowed to attend to the exam if his / her attendance to classes is less than 75%. Take followings input from the user:\n",
    "    - Number of classes held,\n",
    "    - Number of classes attended.\n",
    "   \n",
    "    Then, print the percentage of classes attended and whether the student is allowed to attend in an exam or not."
   ]
  },
  {
   "cell_type": "code",
   "execution_count": 18,
   "metadata": {},
   "outputs": [
    {
     "name": "stdin",
     "output_type": "stream",
     "text": [
      "Enter number of classes held: 4\n",
      "Enter attended class number: 3\n"
     ]
    },
    {
     "name": "stdout",
     "output_type": "stream",
     "text": [
      "You can enter exam\n"
     ]
    }
   ],
   "source": [
    "held = int(input(\"Enter number of classes held:\"))\n",
    "attendant = int(input(\"Enter attended class number:\"))\n",
    "percentage =  attendant / held\n",
    "\n",
    "if percentage < 0.75:\n",
    "    print(\"You cannot enter exam\")\n",
    "else:\n",
    "    print(\"You can enter exam\")\n"
   ]
  },
  {
   "cell_type": "markdown",
   "metadata": {},
   "source": [
    "5. In this exercise, you will create a program that reads a letter of the alphabet from the user. According to the answer:\n",
    "\n",
    "    - If the user enters `a, e, i, o, u`, then your program should display a message indicating that the entered letter is a vowel.\n",
    "    - If the user enters `y`, then your program should display a message indicating that y is sometimes a vowel and sometimes a consonant.\n",
    "    - Otherwise, your program should display a message indicating that the letter is a consonant."
   ]
  },
  {
   "cell_type": "code",
   "execution_count": 21,
   "metadata": {},
   "outputs": [
    {
     "name": "stdin",
     "output_type": "stream",
     "text": [
      "Enter your letter:  g\n"
     ]
    },
    {
     "name": "stdout",
     "output_type": "stream",
     "text": [
      "You entered a consonant\n"
     ]
    }
   ],
   "source": [
    "userInput = input(\"Enter your letter: \")\n",
    "vowelList = [\"a\", \"e\",\"i\",\"o\",\"u\"]\n",
    "if userInput.lower() in vowelList:\n",
    "    print(\"You entered a vowel.\")\n",
    "elif userInput.lower() == \"y\":\n",
    "    print(\"Y is sometimes a vowel and sometimes a consonant.\")\n",
    "else:\n",
    "    print(\"You entered a consonant\")"
   ]
  }
 ],
 "metadata": {
  "kernelspec": {
   "display_name": "Python 3",
   "language": "python",
   "name": "python3"
  },
  "language_info": {
   "codemirror_mode": {
    "name": "ipython",
    "version": 3
   },
   "file_extension": ".py",
   "mimetype": "text/x-python",
   "name": "python",
   "nbconvert_exporter": "python",
   "pygments_lexer": "ipython3",
   "version": "3.8.2"
  }
 },
 "nbformat": 4,
 "nbformat_minor": 4
}
