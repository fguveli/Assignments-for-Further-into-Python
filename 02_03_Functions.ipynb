{
 "cells": [
  {
   "cell_type": "markdown",
   "metadata": {},
   "source": [
    "# Assignments for \"Functions\""
   ]
  },
  {
   "cell_type": "markdown",
   "metadata": {},
   "source": [
    "1. A prime number is an integer greater than one that is only divisible by one and itself. Write a function that determines whether or not its parameter is prime, returns `True` if it is and `False` otherwise. Write a main program that reads an integer from the user and displays a message indicating whether or not it is prime. Ensure that the main program does not run if the file containing your solution is imported into another program.<br>"
   ]
  },
  {
   "cell_type": "code",
   "execution_count": 7,
   "metadata": {},
   "outputs": [
    {
     "name": "stdin",
     "output_type": "stream",
     "text": [
      "Please enter a number 6\n"
     ]
    },
    {
     "data": {
      "text/plain": [
       "False"
      ]
     },
     "execution_count": 7,
     "metadata": {},
     "output_type": "execute_result"
    }
   ],
   "source": [
    "def isPrime(number):\n",
    "    sqroot = int(number ** 0.5)\n",
    "    for i in range(2, sqroot + 1):\n",
    "        if number % i == 0:\n",
    "            return False\n",
    "        else:\n",
    "            continue\n",
    "    return True\n",
    "\n",
    "isPrime(int(input(\"Please enter a number\")))"
   ]
  },
  {
   "cell_type": "markdown",
   "metadata": {},
   "source": [
    "2. Please write a function that passes each element of a list only once to a new list. We usually do this with the `set()` command, but let us not use this command this time.\n",
    "\n",
    "    Example:\n",
    "    \n",
    "        unique_list([1,2,2,3,3,4,4]) = [1,2,3,4] <br><br>"
   ]
  },
  {
   "cell_type": "code",
   "execution_count": 9,
   "metadata": {},
   "outputs": [
    {
     "name": "stdout",
     "output_type": "stream",
     "text": [
      "[1, 2, 3, 4]\n"
     ]
    }
   ],
   "source": [
    "def uniqueList(list):\n",
    "    unique_list = []\n",
    "    for i in list:\n",
    "        if i in unique_list:\n",
    "            continue\n",
    "        else:\n",
    "            unique_list.append(i)\n",
    "    return unique_list\n",
    "\n",
    "print(uniqueList([1,2,2,3,3,4,4]))"
   ]
  },
  {
   "cell_type": "markdown",
   "metadata": {},
   "source": [
    "3. There are many built-in modules in Python. By importing one of the modules on time, write a function that takes the date of birth as a parameter and returns the age.<br><br>"
   ]
  },
  {
   "cell_type": "code",
   "execution_count": 4,
   "metadata": {},
   "outputs": [
    {
     "name": "stdin",
     "output_type": "stream",
     "text": [
      "Please enter your birth year:  1994\n"
     ]
    },
    {
     "name": "stdout",
     "output_type": "stream",
     "text": [
      "26\n"
     ]
    }
   ],
   "source": [
    "import datetime\n",
    "\n",
    "def getAge():\n",
    "    bDate = int(input(\"Please enter your birth year: \"))\n",
    "    x = datetime.datetime.now()\n",
    "    return print(x.year - bDate)\n",
    "\n",
    "getAge()"
   ]
  },
  {
   "cell_type": "markdown",
   "metadata": {},
   "source": [
    "4. Get a number from the user and calculate the factorial of it by using a function.<br><br>"
   ]
  },
  {
   "cell_type": "code",
   "execution_count": 16,
   "metadata": {},
   "outputs": [
    {
     "data": {
      "text/plain": [
       "720"
      ]
     },
     "execution_count": 16,
     "metadata": {},
     "output_type": "execute_result"
    }
   ],
   "source": [
    "def factorialRec(i):\n",
    "    if i == 1:\n",
    "        return 1\n",
    "    else:\n",
    "        sum = i * factorialRec(i - 1)\n",
    "        return sum\n",
    "factorialRec(6)"
   ]
  },
  {
   "cell_type": "markdown",
   "metadata": {},
   "source": [
    "5. Write a function named `perfect()` that determines if the parameter number is a perfect number. Use this function in a program that determines and prints all the perfect numbers between 1 and 1000.\n",
    "\n",
    "    An integer number is said to be a `perfect number` if its factors (including 1, but not the number itself) sum to the number. \n",
    "\n",
    "        E.g.: 6 is a perfect number because 6 = 1 + 2 + 3.<br><br>"
   ]
  },
  {
   "cell_type": "code",
   "execution_count": 32,
   "metadata": {},
   "outputs": [
    {
     "name": "stdin",
     "output_type": "stream",
     "text": [
      "Enter a number 6\n"
     ]
    },
    {
     "name": "stdout",
     "output_type": "stream",
     "text": [
      "6 is a perfect number becasuse 6 = 1 + 2 + 3.\n"
     ]
    }
   ],
   "source": [
    "def perfect(number):\n",
    "    myList = []\n",
    "    isEqual = 0\n",
    "    for i in range(1,number):\n",
    "        if number % i == 0:\n",
    "            myList.append(str(i))\n",
    "    for j in myList:\n",
    "        isEqual += int(j)\n",
    "    if isEqual == number:\n",
    "        print(number, \"is a perfect number becasuse\", number, \"=\", \" + \".join(myList) + \".\" )\n",
    "    else:\n",
    "        print(number, \"is not a perfect number.\")\n",
    "        \n",
    "perfect(int(input(\"Enter a number\")))"
   ]
  },
  {
   "cell_type": "markdown",
   "metadata": {},
   "source": [
    "6. Write a Python function that prints out the first n rows of [Pascal's triangle](https://en.wikipedia.org/wiki/Pascal%27s_triangle). \n",
    "\n",
    "<div style=\"text-align:center;\">\n",
    "    <img src=\"https://bootrain-lms-assets.s3.eu-central-1.amazonaws.com/bootrain-lms-static/images/02_IntermediatePython/03_PascalsTriangle.gif\" width=\"200\">\n",
    "    \n",
    "    In Pascal's triangle, each number is the sum of the two numbers directly above it.\n",
    "</div>"
   ]
  },
  {
   "cell_type": "code",
   "execution_count": null,
   "metadata": {},
   "outputs": [],
   "source": [
    "\n",
    "        "
   ]
  }
 ],
 "metadata": {
  "kernelspec": {
   "display_name": "Python 3",
   "language": "python",
   "name": "python3"
  },
  "language_info": {
   "codemirror_mode": {
    "name": "ipython",
    "version": 3
   },
   "file_extension": ".py",
   "mimetype": "text/x-python",
   "name": "python",
   "nbconvert_exporter": "python",
   "pygments_lexer": "ipython3",
   "version": "3.8.2"
  }
 },
 "nbformat": 4,
 "nbformat_minor": 4
}
